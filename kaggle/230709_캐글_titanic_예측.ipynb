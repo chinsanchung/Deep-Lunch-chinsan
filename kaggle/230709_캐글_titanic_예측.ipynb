{
  "metadata": {
    "kernelspec": {
      "language": "python",
      "display_name": "Python 3",
      "name": "python3"
    },
    "language_info": {
      "name": "python",
      "version": "3.10.10",
      "mimetype": "text/x-python",
      "codemirror_mode": {
        "name": "ipython",
        "version": 3
      },
      "pygments_lexer": "ipython3",
      "nbconvert_exporter": "python",
      "file_extension": ".py"
    },
    "colab": {
      "provenance": []
    }
  },
  "nbformat_minor": 0,
  "nbformat": 4,
  "cells": [
    {
      "cell_type": "code",
      "source": [
        "# This Python 3 environment comes with many helpful analytics libraries installed\n",
        "# It is defined by the kaggle/python Docker image: https://github.com/kaggle/docker-python\n",
        "# For example, here's several helpful packages to load\n",
        "\n",
        "import numpy as np # linear algebra\n",
        "import pandas as pd # data processing, CSV file I/O (e.g. pd.read_csv)\n",
        "import tensorflow\n",
        "import sklearn\n",
        "\n",
        "# Input data files are available in the read-only \"../input/\" directory\n",
        "# For example, running this (by clicking run or pressing Shift+Enter) will list all files under the input directory\n",
        "\n",
        "import os\n",
        "for dirname, _, filenames in os.walk('/kaggle/input'):\n",
        "    for filename in filenames:\n",
        "        print(os.path.join(dirname, filename))\n",
        "\n",
        "# You can write up to 20GB to the current directory (/kaggle/working/) that gets preserved as output when you create a version using \"Save & Run All\"\n",
        "# You can also write temporary files to /kaggle/temp/, but they won't be saved outside of the current session"
      ],
      "metadata": {
        "_uuid": "8f2839f25d086af736a60e9eeb907d3b93b6e0e5",
        "_cell_guid": "b1076dfc-b9ad-4769-8c92-a6c4dae69d19",
        "execution": {
          "iopub.status.busy": "2023-07-09T14:15:29.675730Z",
          "iopub.execute_input": "2023-07-09T14:15:29.676164Z",
          "iopub.status.idle": "2023-07-09T14:15:29.700149Z",
          "shell.execute_reply.started": "2023-07-09T14:15:29.676133Z",
          "shell.execute_reply": "2023-07-09T14:15:29.699179Z"
        },
        "trusted": true,
        "id": "PtBbSuRTB00w",
        "outputId": "118b904b-c051-4966-d232-2006c6e07db7"
      },
      "execution_count": null,
      "outputs": [
        {
          "name": "stdout",
          "text": "/kaggle/input/titanic/train.csv\n/kaggle/input/titanic/test.csv\n/kaggle/input/titanic/gender_submission.csv\n",
          "output_type": "stream"
        }
      ]
    },
    {
      "cell_type": "code",
      "source": [
        "from tensorflow.keras.models import Sequential\n",
        "from tensorflow.keras.layers import Dense\n",
        "from sklearn.model_selection import train_test_split"
      ],
      "metadata": {
        "execution": {
          "iopub.status.busy": "2023-07-09T14:15:07.078284Z",
          "iopub.execute_input": "2023-07-09T14:15:07.078693Z",
          "iopub.status.idle": "2023-07-09T14:15:07.241259Z",
          "shell.execute_reply.started": "2023-07-09T14:15:07.078663Z",
          "shell.execute_reply": "2023-07-09T14:15:07.239807Z"
        },
        "trusted": true,
        "id": "q0JpZD1RB003"
      },
      "execution_count": null,
      "outputs": []
    },
    {
      "cell_type": "code",
      "source": [
        "# read dataset\n",
        "df = pd.read_csv('/kaggle/input/titanic/train.csv')\n",
        "df.head(5)"
      ],
      "metadata": {
        "execution": {
          "iopub.status.busy": "2023-07-09T13:53:00.351357Z",
          "iopub.execute_input": "2023-07-09T13:53:00.352012Z",
          "iopub.status.idle": "2023-07-09T13:53:00.381264Z",
          "shell.execute_reply.started": "2023-07-09T13:53:00.351978Z",
          "shell.execute_reply": "2023-07-09T13:53:00.379975Z"
        },
        "trusted": true,
        "id": "Z2A9-cTcB005",
        "outputId": "75d449bd-8c7d-494e-de66-d38c1249666b"
      },
      "execution_count": null,
      "outputs": [
        {
          "execution_count": 31,
          "output_type": "execute_result",
          "data": {
            "text/plain": "   PassengerId  Survived  Pclass  \\\n0            1         0       3   \n1            2         1       1   \n2            3         1       3   \n3            4         1       1   \n4            5         0       3   \n\n                                                Name     Sex   Age  SibSp  \\\n0                            Braund, Mr. Owen Harris    male  22.0      1   \n1  Cumings, Mrs. John Bradley (Florence Briggs Th...  female  38.0      1   \n2                             Heikkinen, Miss. Laina  female  26.0      0   \n3       Futrelle, Mrs. Jacques Heath (Lily May Peel)  female  35.0      1   \n4                           Allen, Mr. William Henry    male  35.0      0   \n\n   Parch            Ticket     Fare Cabin Embarked  \n0      0         A/5 21171   7.2500   NaN        S  \n1      0          PC 17599  71.2833   C85        C  \n2      0  STON/O2. 3101282   7.9250   NaN        S  \n3      0            113803  53.1000  C123        S  \n4      0            373450   8.0500   NaN        S  ",
            "text/html": "<div>\n<style scoped>\n    .dataframe tbody tr th:only-of-type {\n        vertical-align: middle;\n    }\n\n    .dataframe tbody tr th {\n        vertical-align: top;\n    }\n\n    .dataframe thead th {\n        text-align: right;\n    }\n</style>\n<table border=\"1\" class=\"dataframe\">\n  <thead>\n    <tr style=\"text-align: right;\">\n      <th></th>\n      <th>PassengerId</th>\n      <th>Survived</th>\n      <th>Pclass</th>\n      <th>Name</th>\n      <th>Sex</th>\n      <th>Age</th>\n      <th>SibSp</th>\n      <th>Parch</th>\n      <th>Ticket</th>\n      <th>Fare</th>\n      <th>Cabin</th>\n      <th>Embarked</th>\n    </tr>\n  </thead>\n  <tbody>\n    <tr>\n      <th>0</th>\n      <td>1</td>\n      <td>0</td>\n      <td>3</td>\n      <td>Braund, Mr. Owen Harris</td>\n      <td>male</td>\n      <td>22.0</td>\n      <td>1</td>\n      <td>0</td>\n      <td>A/5 21171</td>\n      <td>7.2500</td>\n      <td>NaN</td>\n      <td>S</td>\n    </tr>\n    <tr>\n      <th>1</th>\n      <td>2</td>\n      <td>1</td>\n      <td>1</td>\n      <td>Cumings, Mrs. John Bradley (Florence Briggs Th...</td>\n      <td>female</td>\n      <td>38.0</td>\n      <td>1</td>\n      <td>0</td>\n      <td>PC 17599</td>\n      <td>71.2833</td>\n      <td>C85</td>\n      <td>C</td>\n    </tr>\n    <tr>\n      <th>2</th>\n      <td>3</td>\n      <td>1</td>\n      <td>3</td>\n      <td>Heikkinen, Miss. Laina</td>\n      <td>female</td>\n      <td>26.0</td>\n      <td>0</td>\n      <td>0</td>\n      <td>STON/O2. 3101282</td>\n      <td>7.9250</td>\n      <td>NaN</td>\n      <td>S</td>\n    </tr>\n    <tr>\n      <th>3</th>\n      <td>4</td>\n      <td>1</td>\n      <td>1</td>\n      <td>Futrelle, Mrs. Jacques Heath (Lily May Peel)</td>\n      <td>female</td>\n      <td>35.0</td>\n      <td>1</td>\n      <td>0</td>\n      <td>113803</td>\n      <td>53.1000</td>\n      <td>C123</td>\n      <td>S</td>\n    </tr>\n    <tr>\n      <th>4</th>\n      <td>5</td>\n      <td>0</td>\n      <td>3</td>\n      <td>Allen, Mr. William Henry</td>\n      <td>male</td>\n      <td>35.0</td>\n      <td>0</td>\n      <td>0</td>\n      <td>373450</td>\n      <td>8.0500</td>\n      <td>NaN</td>\n      <td>S</td>\n    </tr>\n  </tbody>\n</table>\n</div>"
          },
          "metadata": {}
        }
      ]
    },
    {
      "cell_type": "code",
      "source": [
        "# 결측치 확인\n",
        "df.isnull().sum().sort_values(ascending=False)"
      ],
      "metadata": {
        "execution": {
          "iopub.status.busy": "2023-07-09T13:53:02.199442Z",
          "iopub.execute_input": "2023-07-09T13:53:02.199857Z",
          "iopub.status.idle": "2023-07-09T13:53:02.216040Z",
          "shell.execute_reply.started": "2023-07-09T13:53:02.199828Z",
          "shell.execute_reply": "2023-07-09T13:53:02.214401Z"
        },
        "trusted": true,
        "id": "LDaROC13B006",
        "outputId": "403d315d-8e41-4d8c-887f-9b46ce07c33b"
      },
      "execution_count": null,
      "outputs": [
        {
          "execution_count": 32,
          "output_type": "execute_result",
          "data": {
            "text/plain": "Cabin          687\nAge            177\nEmbarked         2\nPassengerId      0\nSurvived         0\nPclass           0\nName             0\nSex              0\nSibSp            0\nParch            0\nTicket           0\nFare             0\ndtype: int64"
          },
          "metadata": {}
        }
      ]
    },
    {
      "cell_type": "markdown",
      "source": [],
      "metadata": {
        "id": "_1z0lc5QB007"
      }
    },
    {
      "cell_type": "markdown",
      "source": [
        "#### 불필요한 컬럼을 제외하는 작업\n",
        "\n",
        "- Cabin 은 결측치가 너무 많아서 예측 모델에서 제외합니다.\n",
        "- Name, Ticket  은 생존률에 크게 영향을 주지 않을 것이기에 제외힙니다."
      ],
      "metadata": {
        "id": "q6eErifxB008"
      }
    },
    {
      "cell_type": "code",
      "source": [
        "# Cabin 은 결측치가 너무 많아서 예측 모델에서 제외합니다.\n",
        "df = df.drop(columns=['Cabin', 'Name', 'Ticket'], axis=1)\n",
        "df.columns"
      ],
      "metadata": {
        "execution": {
          "iopub.status.busy": "2023-07-09T13:53:03.992315Z",
          "iopub.execute_input": "2023-07-09T13:53:03.992776Z",
          "iopub.status.idle": "2023-07-09T13:53:04.003352Z",
          "shell.execute_reply.started": "2023-07-09T13:53:03.992743Z",
          "shell.execute_reply": "2023-07-09T13:53:04.001685Z"
        },
        "trusted": true,
        "id": "a4jNEIhBB009",
        "outputId": "4e5bc7a8-e9d9-4282-f115-bd23494e0ca5"
      },
      "execution_count": null,
      "outputs": [
        {
          "execution_count": 33,
          "output_type": "execute_result",
          "data": {
            "text/plain": "Index(['PassengerId', 'Survived', 'Pclass', 'Sex', 'Age', 'SibSp', 'Parch',\n       'Fare', 'Embarked'],\n      dtype='object')"
          },
          "metadata": {}
        }
      ]
    },
    {
      "cell_type": "code",
      "source": [
        "df = pd.get_dummies(df) # # 카테고리형 변수를 0, 1로 이뤄진 변수로 바꿉니다.\n",
        "df['Age'] = df['Age'].fillna(df['Age'].mean()) # Age 의 결측치를 일단 교재에 있는대로 평균값으로 채워넣었습니다.\n",
        "df.isnull().sum().sort_values(ascending=False)"
      ],
      "metadata": {
        "execution": {
          "iopub.status.busy": "2023-07-09T13:53:06.143903Z",
          "iopub.execute_input": "2023-07-09T13:53:06.144290Z",
          "iopub.status.idle": "2023-07-09T13:53:06.163086Z",
          "shell.execute_reply.started": "2023-07-09T13:53:06.144262Z",
          "shell.execute_reply": "2023-07-09T13:53:06.161674Z"
        },
        "trusted": true,
        "id": "dJAVqDQEB00-",
        "outputId": "8f2183ae-ab6f-4ef0-f9bd-440c909f05f1"
      },
      "execution_count": null,
      "outputs": [
        {
          "execution_count": 34,
          "output_type": "execute_result",
          "data": {
            "text/plain": "PassengerId    0\nSurvived       0\nPclass         0\nAge            0\nSibSp          0\nParch          0\nFare           0\nSex_female     0\nSex_male       0\nEmbarked_C     0\nEmbarked_Q     0\nEmbarked_S     0\ndtype: int64"
          },
          "metadata": {}
        }
      ]
    },
    {
      "cell_type": "code",
      "source": [
        "df.columns"
      ],
      "metadata": {
        "execution": {
          "iopub.status.busy": "2023-07-09T13:53:08.881642Z",
          "iopub.execute_input": "2023-07-09T13:53:08.882095Z",
          "iopub.status.idle": "2023-07-09T13:53:08.891760Z",
          "shell.execute_reply.started": "2023-07-09T13:53:08.882062Z",
          "shell.execute_reply": "2023-07-09T13:53:08.890144Z"
        },
        "trusted": true,
        "id": "xFwJcuhRB00_",
        "outputId": "ffd50bc1-994f-4b5a-9071-81372290baea"
      },
      "execution_count": null,
      "outputs": [
        {
          "execution_count": 35,
          "output_type": "execute_result",
          "data": {
            "text/plain": "Index(['PassengerId', 'Survived', 'Pclass', 'Age', 'SibSp', 'Parch', 'Fare',\n       'Sex_female', 'Sex_male', 'Embarked_C', 'Embarked_Q', 'Embarked_S'],\n      dtype='object')"
          },
          "metadata": {}
        }
      ]
    },
    {
      "cell_type": "code",
      "source": [
        "# 중요도를 체크해봅니다.\n",
        "df_corr = df.corr()\n",
        "df_corr_sort = df_corr.sort_values('Survived', ascending=False)\n",
        "df_corr_sort['Survived'].head()"
      ],
      "metadata": {
        "execution": {
          "iopub.status.busy": "2023-07-09T13:53:15.328040Z",
          "iopub.execute_input": "2023-07-09T13:53:15.328458Z",
          "iopub.status.idle": "2023-07-09T13:53:15.345034Z",
          "shell.execute_reply.started": "2023-07-09T13:53:15.328428Z",
          "shell.execute_reply": "2023-07-09T13:53:15.343184Z"
        },
        "trusted": true,
        "id": "AgA_To35B01A",
        "outputId": "4340d8d8-bcba-42d3-9638-645a369fcf64"
      },
      "execution_count": null,
      "outputs": [
        {
          "execution_count": 36,
          "output_type": "execute_result",
          "data": {
            "text/plain": "Survived      1.000000\nSex_female    0.543351\nFare          0.257307\nEmbarked_C    0.168240\nParch         0.081629\nName: Survived, dtype: float64"
          },
          "metadata": {}
        }
      ]
    },
    {
      "cell_type": "markdown",
      "source": [
        "생존률에 큰 영향을 주는 것은 성별 `Sex`, 요금 `Fare`, 승선한 위치 `Embarked` 순이었습니다.\n",
        "\n",
        "일단 `PassangerId` 를 제외한 모든 컬럼을 모델 옵션으로 설정하기로 했습니다."
      ],
      "metadata": {
        "id": "i8xhNs70B01C"
      }
    },
    {
      "cell_type": "code",
      "source": [
        "# 테스트를 위한 데이터를 설정합니다.\n",
        "cols_train = ['Pclass', 'Age', 'SibSp', 'Parch', 'Fare', 'Sex_female', 'Sex_male', 'Embarked_C', 'Embarked_Q', 'Embarked_S']\n",
        "X_train_pre = df[cols_train]\n",
        "y = df['Survived'].values\n",
        "X_train, X_test, y_train, y_test = sk.model_selection.train_test_split(X_train_pre, y, test_size=0.2)"
      ],
      "metadata": {
        "execution": {
          "iopub.status.busy": "2023-07-09T14:15:35.723432Z",
          "iopub.execute_input": "2023-07-09T14:15:35.723841Z",
          "iopub.status.idle": "2023-07-09T14:15:35.735134Z",
          "shell.execute_reply.started": "2023-07-09T14:15:35.723812Z",
          "shell.execute_reply": "2023-07-09T14:15:35.733734Z"
        },
        "trusted": true,
        "id": "M_0xjagHB01D"
      },
      "execution_count": null,
      "outputs": []
    },
    {
      "cell_type": "code",
      "source": [
        "# 모델 설정\n",
        "model = Sequential()\n",
        "model.add(Dense(20, input_dim=10, activation='relu', name='Dense_1'))\n",
        "model.add(Dense(10, activation='relu', name='Dense_2'))\n",
        "model.add(Dense(1, activation='sigmoid', name='Dense_3'))\n",
        "model.summary()"
      ],
      "metadata": {
        "execution": {
          "iopub.status.busy": "2023-07-09T14:18:54.908074Z",
          "iopub.execute_input": "2023-07-09T14:18:54.908656Z",
          "iopub.status.idle": "2023-07-09T14:18:54.974754Z",
          "shell.execute_reply.started": "2023-07-09T14:18:54.908613Z",
          "shell.execute_reply": "2023-07-09T14:18:54.973755Z"
        },
        "trusted": true,
        "id": "XqTsoMlEB01D",
        "outputId": "57feff2c-1eda-4e31-fd87-36cbdc35df71"
      },
      "execution_count": null,
      "outputs": [
        {
          "name": "stdout",
          "text": "Model: \"sequential_2\"\n_________________________________________________________________\n Layer (type)                Output Shape              Param #   \n=================================================================\n Dense_1 (Dense)             (None, 20)                220       \n                                                                 \n Dense_2 (Dense)             (None, 10)                210       \n                                                                 \n Dense_3 (Dense)             (None, 1)                 11        \n                                                                 \n=================================================================\nTotal params: 441\nTrainable params: 441\nNon-trainable params: 0\n_________________________________________________________________\n",
          "output_type": "stream"
        }
      ]
    },
    {
      "cell_type": "code",
      "source": [
        "model.compile(loss='binary_crossentropy', optimizer='adam', metrics=['accuracy'])\n",
        "\n",
        "history = model.fit(X_train, y_train, validation_split=0.25, epochs=100)"
      ],
      "metadata": {
        "execution": {
          "iopub.status.busy": "2023-07-09T14:21:07.286848Z",
          "iopub.execute_input": "2023-07-09T14:21:07.287269Z",
          "iopub.status.idle": "2023-07-09T14:21:15.743299Z",
          "shell.execute_reply.started": "2023-07-09T14:21:07.287240Z",
          "shell.execute_reply": "2023-07-09T14:21:15.742409Z"
        },
        "collapsed": true,
        "jupyter": {
          "outputs_hidden": true
        },
        "trusted": true,
        "id": "-d55biX9B01E",
        "outputId": "8895bafb-69db-4966-de47-b7c00ca12b68"
      },
      "execution_count": null,
      "outputs": [
        {
          "name": "stdout",
          "text": "Epoch 1/100\n17/17 [==============================] - 1s 18ms/step - loss: 1.0095 - accuracy: 0.3652 - val_loss: 0.8427 - val_accuracy: 0.2921\nEpoch 2/100\n17/17 [==============================] - 0s 4ms/step - loss: 0.7794 - accuracy: 0.3933 - val_loss: 0.7242 - val_accuracy: 0.5056\nEpoch 3/100\n17/17 [==============================] - 0s 4ms/step - loss: 0.7110 - accuracy: 0.5393 - val_loss: 0.6674 - val_accuracy: 0.5843\nEpoch 4/100\n17/17 [==============================] - 0s 5ms/step - loss: 0.6711 - accuracy: 0.5805 - val_loss: 0.6137 - val_accuracy: 0.6573\nEpoch 5/100\n17/17 [==============================] - 0s 4ms/step - loss: 0.6426 - accuracy: 0.5993 - val_loss: 0.5734 - val_accuracy: 0.6742\nEpoch 6/100\n17/17 [==============================] - 0s 4ms/step - loss: 0.6321 - accuracy: 0.5974 - val_loss: 0.5623 - val_accuracy: 0.6798\nEpoch 7/100\n17/17 [==============================] - 0s 4ms/step - loss: 0.6296 - accuracy: 0.5993 - val_loss: 0.5660 - val_accuracy: 0.6685\nEpoch 8/100\n17/17 [==============================] - 0s 4ms/step - loss: 0.6237 - accuracy: 0.6011 - val_loss: 0.5597 - val_accuracy: 0.6742\nEpoch 9/100\n17/17 [==============================] - 0s 4ms/step - loss: 0.6216 - accuracy: 0.5974 - val_loss: 0.5556 - val_accuracy: 0.6742\nEpoch 10/100\n17/17 [==============================] - 0s 4ms/step - loss: 0.6170 - accuracy: 0.6030 - val_loss: 0.5616 - val_accuracy: 0.6517\nEpoch 11/100\n17/17 [==============================] - 0s 4ms/step - loss: 0.6152 - accuracy: 0.6049 - val_loss: 0.5594 - val_accuracy: 0.6573\nEpoch 12/100\n17/17 [==============================] - 0s 4ms/step - loss: 0.6127 - accuracy: 0.6067 - val_loss: 0.5543 - val_accuracy: 0.6742\nEpoch 13/100\n17/17 [==============================] - 0s 4ms/step - loss: 0.6111 - accuracy: 0.6030 - val_loss: 0.5519 - val_accuracy: 0.6742\nEpoch 14/100\n17/17 [==============================] - 0s 4ms/step - loss: 0.6085 - accuracy: 0.6536 - val_loss: 0.5533 - val_accuracy: 0.7360\nEpoch 15/100\n17/17 [==============================] - 0s 5ms/step - loss: 0.6060 - accuracy: 0.6966 - val_loss: 0.5457 - val_accuracy: 0.7472\nEpoch 16/100\n17/17 [==============================] - 0s 5ms/step - loss: 0.6032 - accuracy: 0.6910 - val_loss: 0.5494 - val_accuracy: 0.7472\nEpoch 17/100\n17/17 [==============================] - 0s 4ms/step - loss: 0.6007 - accuracy: 0.7154 - val_loss: 0.5481 - val_accuracy: 0.7472\nEpoch 18/100\n17/17 [==============================] - 0s 4ms/step - loss: 0.5977 - accuracy: 0.7154 - val_loss: 0.5412 - val_accuracy: 0.7584\nEpoch 19/100\n17/17 [==============================] - 0s 4ms/step - loss: 0.5945 - accuracy: 0.7060 - val_loss: 0.5433 - val_accuracy: 0.7472\nEpoch 20/100\n17/17 [==============================] - 0s 4ms/step - loss: 0.5914 - accuracy: 0.7172 - val_loss: 0.5358 - val_accuracy: 0.7528\nEpoch 21/100\n17/17 [==============================] - 0s 4ms/step - loss: 0.5862 - accuracy: 0.7116 - val_loss: 0.5447 - val_accuracy: 0.7360\nEpoch 22/100\n17/17 [==============================] - 0s 4ms/step - loss: 0.5811 - accuracy: 0.7135 - val_loss: 0.5332 - val_accuracy: 0.7472\nEpoch 23/100\n17/17 [==============================] - 0s 4ms/step - loss: 0.5760 - accuracy: 0.7285 - val_loss: 0.5309 - val_accuracy: 0.7528\nEpoch 24/100\n17/17 [==============================] - 0s 4ms/step - loss: 0.5685 - accuracy: 0.7116 - val_loss: 0.5222 - val_accuracy: 0.7640\nEpoch 25/100\n17/17 [==============================] - 0s 4ms/step - loss: 0.5603 - accuracy: 0.7378 - val_loss: 0.5247 - val_accuracy: 0.7416\nEpoch 26/100\n17/17 [==============================] - 0s 4ms/step - loss: 0.5500 - accuracy: 0.7228 - val_loss: 0.5007 - val_accuracy: 0.7753\nEpoch 27/100\n17/17 [==============================] - 0s 4ms/step - loss: 0.5333 - accuracy: 0.7378 - val_loss: 0.5060 - val_accuracy: 0.7416\nEpoch 28/100\n17/17 [==============================] - 0s 4ms/step - loss: 0.5272 - accuracy: 0.7247 - val_loss: 0.5039 - val_accuracy: 0.7697\nEpoch 29/100\n17/17 [==============================] - 0s 4ms/step - loss: 0.5215 - accuracy: 0.7285 - val_loss: 0.4929 - val_accuracy: 0.7753\nEpoch 30/100\n17/17 [==============================] - 0s 4ms/step - loss: 0.5137 - accuracy: 0.7360 - val_loss: 0.4843 - val_accuracy: 0.7865\nEpoch 31/100\n17/17 [==============================] - 0s 4ms/step - loss: 0.5128 - accuracy: 0.7434 - val_loss: 0.4777 - val_accuracy: 0.8202\nEpoch 32/100\n17/17 [==============================] - 0s 4ms/step - loss: 0.5033 - accuracy: 0.7491 - val_loss: 0.4962 - val_accuracy: 0.7865\nEpoch 33/100\n17/17 [==============================] - 0s 4ms/step - loss: 0.4975 - accuracy: 0.7697 - val_loss: 0.4734 - val_accuracy: 0.7978\nEpoch 34/100\n17/17 [==============================] - 0s 4ms/step - loss: 0.4962 - accuracy: 0.7828 - val_loss: 0.4987 - val_accuracy: 0.7640\nEpoch 35/100\n17/17 [==============================] - 0s 4ms/step - loss: 0.4919 - accuracy: 0.7734 - val_loss: 0.4751 - val_accuracy: 0.7809\nEpoch 36/100\n17/17 [==============================] - 0s 4ms/step - loss: 0.4819 - accuracy: 0.7884 - val_loss: 0.4572 - val_accuracy: 0.8146\nEpoch 37/100\n17/17 [==============================] - 0s 4ms/step - loss: 0.4864 - accuracy: 0.7846 - val_loss: 0.4672 - val_accuracy: 0.8034\nEpoch 38/100\n17/17 [==============================] - 0s 5ms/step - loss: 0.4809 - accuracy: 0.7865 - val_loss: 0.4905 - val_accuracy: 0.7640\nEpoch 39/100\n17/17 [==============================] - 0s 4ms/step - loss: 0.4766 - accuracy: 0.7903 - val_loss: 0.4552 - val_accuracy: 0.8090\nEpoch 40/100\n17/17 [==============================] - 0s 4ms/step - loss: 0.4743 - accuracy: 0.7903 - val_loss: 0.4510 - val_accuracy: 0.8034\nEpoch 41/100\n17/17 [==============================] - 0s 4ms/step - loss: 0.4728 - accuracy: 0.7940 - val_loss: 0.4504 - val_accuracy: 0.7978\nEpoch 42/100\n17/17 [==============================] - 0s 4ms/step - loss: 0.4655 - accuracy: 0.7809 - val_loss: 0.4596 - val_accuracy: 0.7865\nEpoch 43/100\n17/17 [==============================] - 0s 4ms/step - loss: 0.4662 - accuracy: 0.7846 - val_loss: 0.4776 - val_accuracy: 0.7753\nEpoch 44/100\n17/17 [==============================] - 0s 4ms/step - loss: 0.4668 - accuracy: 0.7753 - val_loss: 0.4481 - val_accuracy: 0.7865\nEpoch 45/100\n17/17 [==============================] - 0s 4ms/step - loss: 0.4631 - accuracy: 0.7903 - val_loss: 0.4494 - val_accuracy: 0.7865\nEpoch 46/100\n17/17 [==============================] - 0s 4ms/step - loss: 0.4606 - accuracy: 0.7865 - val_loss: 0.4556 - val_accuracy: 0.7921\nEpoch 47/100\n17/17 [==============================] - 0s 4ms/step - loss: 0.4623 - accuracy: 0.7940 - val_loss: 0.4429 - val_accuracy: 0.7865\nEpoch 48/100\n17/17 [==============================] - 0s 4ms/step - loss: 0.4581 - accuracy: 0.7846 - val_loss: 0.4448 - val_accuracy: 0.7865\nEpoch 49/100\n17/17 [==============================] - 0s 4ms/step - loss: 0.4563 - accuracy: 0.7884 - val_loss: 0.4503 - val_accuracy: 0.7921\nEpoch 50/100\n17/17 [==============================] - 0s 4ms/step - loss: 0.4550 - accuracy: 0.7884 - val_loss: 0.4557 - val_accuracy: 0.7865\nEpoch 51/100\n17/17 [==============================] - 0s 4ms/step - loss: 0.4600 - accuracy: 0.7884 - val_loss: 0.4668 - val_accuracy: 0.7809\nEpoch 52/100\n17/17 [==============================] - 0s 4ms/step - loss: 0.4539 - accuracy: 0.7790 - val_loss: 0.4477 - val_accuracy: 0.7921\nEpoch 53/100\n17/17 [==============================] - 0s 4ms/step - loss: 0.4537 - accuracy: 0.7884 - val_loss: 0.4486 - val_accuracy: 0.8034\nEpoch 54/100\n17/17 [==============================] - 0s 4ms/step - loss: 0.4511 - accuracy: 0.7959 - val_loss: 0.4700 - val_accuracy: 0.7865\nEpoch 55/100\n17/17 [==============================] - 0s 4ms/step - loss: 0.4572 - accuracy: 0.7940 - val_loss: 0.4275 - val_accuracy: 0.8202\nEpoch 56/100\n17/17 [==============================] - 0s 4ms/step - loss: 0.4627 - accuracy: 0.7753 - val_loss: 0.4488 - val_accuracy: 0.7865\nEpoch 57/100\n17/17 [==============================] - 0s 4ms/step - loss: 0.4521 - accuracy: 0.7959 - val_loss: 0.4495 - val_accuracy: 0.7865\nEpoch 58/100\n17/17 [==============================] - 0s 5ms/step - loss: 0.4483 - accuracy: 0.7884 - val_loss: 0.4318 - val_accuracy: 0.8090\nEpoch 59/100\n17/17 [==============================] - 0s 4ms/step - loss: 0.4454 - accuracy: 0.7865 - val_loss: 0.4398 - val_accuracy: 0.8034\nEpoch 60/100\n17/17 [==============================] - 0s 4ms/step - loss: 0.4450 - accuracy: 0.7846 - val_loss: 0.4256 - val_accuracy: 0.8146\nEpoch 61/100\n17/17 [==============================] - 0s 4ms/step - loss: 0.4504 - accuracy: 0.7846 - val_loss: 0.4307 - val_accuracy: 0.8090\nEpoch 62/100\n17/17 [==============================] - 0s 4ms/step - loss: 0.4448 - accuracy: 0.7996 - val_loss: 0.4422 - val_accuracy: 0.7865\nEpoch 63/100\n17/17 [==============================] - 0s 4ms/step - loss: 0.4426 - accuracy: 0.7921 - val_loss: 0.4270 - val_accuracy: 0.8146\nEpoch 64/100\n17/17 [==============================] - 0s 4ms/step - loss: 0.4415 - accuracy: 0.7828 - val_loss: 0.4321 - val_accuracy: 0.8034\nEpoch 65/100\n17/17 [==============================] - 0s 4ms/step - loss: 0.4509 - accuracy: 0.7772 - val_loss: 0.4248 - val_accuracy: 0.8090\nEpoch 66/100\n17/17 [==============================] - 0s 4ms/step - loss: 0.4576 - accuracy: 0.7921 - val_loss: 0.4422 - val_accuracy: 0.7865\nEpoch 67/100\n17/17 [==============================] - 0s 4ms/step - loss: 0.4411 - accuracy: 0.7996 - val_loss: 0.4339 - val_accuracy: 0.8034\nEpoch 68/100\n17/17 [==============================] - 0s 4ms/step - loss: 0.4504 - accuracy: 0.7865 - val_loss: 0.4261 - val_accuracy: 0.8202\nEpoch 69/100\n17/17 [==============================] - 0s 4ms/step - loss: 0.4376 - accuracy: 0.7865 - val_loss: 0.4366 - val_accuracy: 0.7978\nEpoch 70/100\n17/17 [==============================] - 0s 4ms/step - loss: 0.4361 - accuracy: 0.7940 - val_loss: 0.4333 - val_accuracy: 0.8034\nEpoch 71/100\n17/17 [==============================] - 0s 4ms/step - loss: 0.4414 - accuracy: 0.7940 - val_loss: 0.4336 - val_accuracy: 0.7921\nEpoch 72/100\n17/17 [==============================] - 0s 4ms/step - loss: 0.4376 - accuracy: 0.8052 - val_loss: 0.4368 - val_accuracy: 0.7921\nEpoch 73/100\n17/17 [==============================] - 0s 4ms/step - loss: 0.4397 - accuracy: 0.7828 - val_loss: 0.4299 - val_accuracy: 0.8034\nEpoch 74/100\n17/17 [==============================] - 0s 4ms/step - loss: 0.4369 - accuracy: 0.7884 - val_loss: 0.4232 - val_accuracy: 0.8202\nEpoch 75/100\n17/17 [==============================] - 0s 4ms/step - loss: 0.4390 - accuracy: 0.7865 - val_loss: 0.4318 - val_accuracy: 0.8034\nEpoch 76/100\n17/17 [==============================] - 0s 4ms/step - loss: 0.4348 - accuracy: 0.7978 - val_loss: 0.4268 - val_accuracy: 0.8090\nEpoch 77/100\n17/17 [==============================] - 0s 4ms/step - loss: 0.4323 - accuracy: 0.7996 - val_loss: 0.4259 - val_accuracy: 0.8146\nEpoch 78/100\n17/17 [==============================] - 0s 4ms/step - loss: 0.4354 - accuracy: 0.7903 - val_loss: 0.4196 - val_accuracy: 0.8202\nEpoch 79/100\n17/17 [==============================] - 0s 4ms/step - loss: 0.4345 - accuracy: 0.7940 - val_loss: 0.4495 - val_accuracy: 0.7753\nEpoch 80/100\n17/17 [==============================] - 0s 4ms/step - loss: 0.4382 - accuracy: 0.8052 - val_loss: 0.4303 - val_accuracy: 0.8090\nEpoch 81/100\n17/17 [==============================] - 0s 4ms/step - loss: 0.4354 - accuracy: 0.7846 - val_loss: 0.4275 - val_accuracy: 0.8146\nEpoch 82/100\n17/17 [==============================] - 0s 4ms/step - loss: 0.4315 - accuracy: 0.7921 - val_loss: 0.4252 - val_accuracy: 0.8202\nEpoch 83/100\n17/17 [==============================] - 0s 4ms/step - loss: 0.4373 - accuracy: 0.7865 - val_loss: 0.4276 - val_accuracy: 0.8202\nEpoch 84/100\n17/17 [==============================] - 0s 4ms/step - loss: 0.4367 - accuracy: 0.7940 - val_loss: 0.4279 - val_accuracy: 0.8202\nEpoch 85/100\n17/17 [==============================] - 0s 4ms/step - loss: 0.4325 - accuracy: 0.8015 - val_loss: 0.4379 - val_accuracy: 0.7921\nEpoch 86/100\n17/17 [==============================] - 0s 4ms/step - loss: 0.4291 - accuracy: 0.7959 - val_loss: 0.4249 - val_accuracy: 0.8146\nEpoch 87/100\n17/17 [==============================] - 0s 4ms/step - loss: 0.4378 - accuracy: 0.7940 - val_loss: 0.4608 - val_accuracy: 0.7753\nEpoch 88/100\n17/17 [==============================] - 0s 4ms/step - loss: 0.4337 - accuracy: 0.8015 - val_loss: 0.4390 - val_accuracy: 0.7921\nEpoch 89/100\n17/17 [==============================] - 0s 5ms/step - loss: 0.4282 - accuracy: 0.8015 - val_loss: 0.4294 - val_accuracy: 0.8202\nEpoch 90/100\n17/17 [==============================] - 0s 4ms/step - loss: 0.4300 - accuracy: 0.7996 - val_loss: 0.4334 - val_accuracy: 0.7921\nEpoch 91/100\n17/17 [==============================] - 0s 4ms/step - loss: 0.4270 - accuracy: 0.7996 - val_loss: 0.4220 - val_accuracy: 0.8202\nEpoch 92/100\n17/17 [==============================] - 0s 4ms/step - loss: 0.4276 - accuracy: 0.7959 - val_loss: 0.4343 - val_accuracy: 0.7978\nEpoch 93/100\n17/17 [==============================] - 0s 4ms/step - loss: 0.4310 - accuracy: 0.7978 - val_loss: 0.4233 - val_accuracy: 0.8202\nEpoch 94/100\n17/17 [==============================] - 0s 4ms/step - loss: 0.4356 - accuracy: 0.7809 - val_loss: 0.4251 - val_accuracy: 0.8202\nEpoch 95/100\n17/17 [==============================] - 0s 4ms/step - loss: 0.4261 - accuracy: 0.7940 - val_loss: 0.4449 - val_accuracy: 0.7921\nEpoch 96/100\n17/17 [==============================] - 0s 4ms/step - loss: 0.4267 - accuracy: 0.8015 - val_loss: 0.4351 - val_accuracy: 0.8090\nEpoch 97/100\n17/17 [==============================] - 0s 4ms/step - loss: 0.4252 - accuracy: 0.8015 - val_loss: 0.4365 - val_accuracy: 0.8090\nEpoch 98/100\n17/17 [==============================] - 0s 4ms/step - loss: 0.4277 - accuracy: 0.7940 - val_loss: 0.4379 - val_accuracy: 0.7921\nEpoch 99/100\n17/17 [==============================] - 0s 4ms/step - loss: 0.4240 - accuracy: 0.8052 - val_loss: 0.4288 - val_accuracy: 0.8202\nEpoch 100/100\n17/17 [==============================] - 0s 4ms/step - loss: 0.4253 - accuracy: 0.7996 - val_loss: 0.4301 - val_accuracy: 0.8202\n",
          "output_type": "stream"
        }
      ]
    },
    {
      "cell_type": "code",
      "source": [
        "model.evaluate(X_test, y_test)\n",
        "# 정확도는 82%가 나왔습니다."
      ],
      "metadata": {
        "execution": {
          "iopub.status.busy": "2023-07-09T14:24:43.372852Z",
          "iopub.execute_input": "2023-07-09T14:24:43.374296Z",
          "iopub.status.idle": "2023-07-09T14:24:43.491470Z",
          "shell.execute_reply.started": "2023-07-09T14:24:43.374227Z",
          "shell.execute_reply": "2023-07-09T14:24:43.490189Z"
        },
        "trusted": true,
        "id": "Iqlzwl1ZB01F",
        "outputId": "909a09a0-6f8e-4709-9cd7-6af587d64368"
      },
      "execution_count": null,
      "outputs": [
        {
          "name": "stdout",
          "text": "6/6 [==============================] - 0s 2ms/step - loss: 0.4316 - accuracy: 0.8212\n",
          "output_type": "stream"
        },
        {
          "execution_count": 61,
          "output_type": "execute_result",
          "data": {
            "text/plain": "[0.43157798051834106, 0.8212290406227112]"
          },
          "metadata": {}
        }
      ]
    },
    {
      "cell_type": "code",
      "source": [
        "test_df = pd.read_csv('/kaggle/input/titanic/test.csv')\n",
        "test_df = test_df.drop(columns=['Cabin', 'Name', 'Ticket'], axis=1)\n",
        "test_df = pd.get_dummies(test_df)"
      ],
      "metadata": {
        "execution": {
          "iopub.status.busy": "2023-07-09T14:22:56.173365Z",
          "iopub.execute_input": "2023-07-09T14:22:56.173807Z",
          "iopub.status.idle": "2023-07-09T14:22:56.196569Z",
          "shell.execute_reply.started": "2023-07-09T14:22:56.173774Z",
          "shell.execute_reply": "2023-07-09T14:22:56.195436Z"
        },
        "trusted": true,
        "id": "ZfT05VVnB01F"
      },
      "execution_count": null,
      "outputs": []
    },
    {
      "cell_type": "code",
      "source": [
        "prediction = model.predict(test_df[cols_train])"
      ],
      "metadata": {
        "execution": {
          "iopub.status.busy": "2023-07-09T14:27:59.991239Z",
          "iopub.execute_input": "2023-07-09T14:27:59.991697Z",
          "iopub.status.idle": "2023-07-09T14:28:00.104264Z",
          "shell.execute_reply.started": "2023-07-09T14:27:59.991664Z",
          "shell.execute_reply": "2023-07-09T14:28:00.102768Z"
        },
        "trusted": true,
        "id": "VIH0CFOxB01G",
        "outputId": "5d5fd17d-eeca-43c2-da34-8807e37cf576"
      },
      "execution_count": null,
      "outputs": [
        {
          "name": "stdout",
          "text": "14/14 [==============================] - 0s 2ms/step\n",
          "output_type": "stream"
        }
      ]
    }
  ]
}