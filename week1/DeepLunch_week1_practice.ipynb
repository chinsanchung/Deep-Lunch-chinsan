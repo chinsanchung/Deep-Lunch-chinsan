{
  "nbformat": 4,
  "nbformat_minor": 0,
  "metadata": {
    "colab": {
      "provenance": []
    },
    "kernelspec": {
      "name": "python3",
      "display_name": "Python 3"
    },
    "language_info": {
      "name": "python"
    }
  },
  "cells": [
    {
      "cell_type": "code",
      "source": [
        "# 딥런치 스터디 1주차\n",
        "\n",
        "import random"
      ],
      "metadata": {
        "id": "9WNNijrhXuHg"
      },
      "execution_count": 32,
      "outputs": []
    },
    {
      "cell_type": "code",
      "source": [
        "## 실습 1. 베스킨라빈스 31 게임\n",
        "\n",
        "print('베스킨라빈스 31 게임 프로그램입니다.')\n",
        "\n",
        "# 함수 설정\n",
        "def call_from_user(call):\n",
        "    print('사용자의 차례')\n",
        "    size_of_call = int(input('호출할 개수를 입력하세요. 1 ~ 3까지 가능하며, 4 이상부터는 3을 입력한 것으로 간주합니다. : '))\n",
        "    if size_of_call > 3:\n",
        "        size_of_call = 3\n",
        "    for _ in range(0, size_of_call):\n",
        "        call += 1\n",
        "        print(\"사용자: '{0}'!\".format(call))\n",
        "    return call\n",
        "\n",
        "def call_from_computer(call):\n",
        "    print('컴퓨터의 차례')\n",
        "    size_of_call = random.randint(1, 3)\n",
        "    for _ in range(0, size_of_call):\n",
        "        call += 1\n",
        "        print(\"컴퓨터: '{0}!\".format(call))\n",
        "    return call\n",
        "\n",
        "call = 0 # 호출하는 숫자\n",
        "count = 1\n",
        "MAXIMUM_LIMIT = 31 # 마지막 숫자\n",
        "is_finished = False # 반복문을 끝내기 위한 설정\n",
        "\n",
        "order = int(input('순서를 입력하세요. (선공 1, 후공 0 입력) : '))\n",
        "\n",
        "while is_finished == False:\n",
        "    if call >= MAXIMUM_LIMIT:\n",
        "        is_finished = True\n",
        "        break\n",
        "    if count % 2 == order:\n",
        "        call = call_from_user(call)\n",
        "    else:\n",
        "        call = call_from_computer(call)\n",
        "    \n",
        "    count += 1\n",
        "\n",
        "# 선공이었을 때 마지막 count 값이 홀수인 경우, 후공이었을 때 마지막 count 값이 짝수인 경우 컴퓨터의 승리.\n",
        "print(\"{0}의 승리!\".format('사용자' if count % 2 == order else '컴퓨터'))"
      ],
      "metadata": {
        "colab": {
          "base_uri": "https://localhost:8080/"
        },
        "id": "6IeYWcu-KefS",
        "outputId": "ab452e2e-1f6f-455d-afd7-301b74c53e7c"
      },
      "execution_count": 29,
      "outputs": [
        {
          "output_type": "stream",
          "name": "stdout",
          "text": [
            "베스킨라빈스 31 게임 프로그램입니다.\n"
          ]
        }
      ]
    },
    {
      "cell_type": "code",
      "source": [
        "## 실습 2. Up & Down 숫자 맞추기 게임\n",
        "\n",
        "print('컴퓨터가 1 ~ 100 중 랜덤 숫자 하나를 정합니다.')\n",
        "random_number = random.randint(1, 100)\n",
        "print('이 숫자를 맞춰주세요.')\n",
        "answer = 0\n",
        "count_for_up_and_down = 1\n",
        "\n",
        "while answer != random_number:\n",
        "    answer = int(input('1 ~ 100 숫자 입력: '))\n",
        "    if random_number > answer:\n",
        "        print('UP')\n",
        "        count_for_up_and_down += 1\n",
        "    elif random_number < answer:\n",
        "        print('DOWN')\n",
        "        count_for_up_and_down += 1\n",
        "    else:\n",
        "        break\n",
        "\n",
        "print(\"정답입니다.! {0}회 만에 맞췄어요.\".format(count_for_up_and_down))\n",
        "\n"
      ],
      "metadata": {
        "id": "cz86bp7XQ8EE"
      },
      "execution_count": null,
      "outputs": []
    }
  ]
}