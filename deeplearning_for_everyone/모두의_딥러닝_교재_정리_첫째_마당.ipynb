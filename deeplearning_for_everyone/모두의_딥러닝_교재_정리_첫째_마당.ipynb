{
  "nbformat": 4,
  "nbformat_minor": 0,
  "metadata": {
    "colab": {
      "provenance": []
    },
    "kernelspec": {
      "name": "python3",
      "display_name": "Python 3"
    },
    "language_info": {
      "name": "python"
    },
    "accelerator": "GPU",
    "gpuClass": "standard"
  },
  "cells": [
    {
      "cell_type": "markdown",
      "source": [
        "# 모두의 딥러닝\n",
        "## 딥러닝 시작을 위한 준비운동 1장 해보자! 딥러닝\n",
        "\n",
        "### 1. 인공지능? 머신 러닝? 딥러닝?\n",
        "\n",
        "- 인공지능의 큰 범주 안에 머신 러닝이 있고, 머신 러닝의 알고리즘 중에서 가장 좋은 효과를 내는 것이 딥러닝입니다.\n",
        "\n",
        "### 2. 딥러닝 실행을 위해 필요한 세 가지\n",
        "\n",
        "- 데이터\n",
        "    - 딥러닝은 데이터를 이용해 예측 또는 판별을 수행합니다.\n",
        "    - 이름표가 주어진 데이터로 예측하는 것을 **지도 학습**, 이름표가 없는 데이터를 분류해 예측하는 것을 **비지도 학습**이라고 부릅니다.\n",
        "- 컴퓨터\n",
        "    - 일반 CPU 또는 GPU 에서 동작시킬 것인지를 선택할 수 있습니다. 만약 더 많은 데이터를 사용한다면 고속 그래픽 처리에 특화된 GPU 작업 환경을 갖추는 것이 좋습니다.\n",
        "- 프로그램\n",
        "    - 딥러닝을 구동할 프로그램이 필요합니다.\n",
        "\n",
        "### 3. 구글 코랩 실행하기\n",
        "\n",
        "딥러닝을 실행하는 대표적인 방법으로는 **구글 코랩**과 **아나콘다**로 가상환경을 실행하는 것 두 가지가 있습니다.\n",
        "\n",
        "- 구글 코랩\n",
        "    - 설치가 필요하지 않습니다. GPU와 TPU를 무료로 지원하고, 구글 드라이브와 연동이 가능합니다\n",
        "    - 아무런 작업도 하지 않을 경우 90분 후 세션을 종료하며, 무료 버전의 최대 세션 유지 시간은 12시간입니다.\n",
        "- 주피터 노트북\n",
        "    - 코랩과 달리 세션을 유지하는 시간의 제약이 없습니다.\n",
        "    - 아나콘다를 설치해야 이용 가능. 컴퓨터 사양을 고려할 필요가 있습니다."
      ],
      "metadata": {
        "id": "uREC6KPgp7vC"
      }
    },
    {
      "cell_type": "code",
      "execution_count": null,
      "metadata": {
        "colab": {
          "base_uri": "https://localhost:8080/"
        },
        "id": "zLo6Oab1px53",
        "outputId": "cd4c7c2d-a456-4b77-9611-775e54b78514"
      },
      "outputs": [
        {
          "output_type": "stream",
          "name": "stdout",
          "text": [
            "Hello, DeepLearning!\n"
          ]
        }
      ],
      "source": [
        "# 코드 실행\n",
        "print('Hello, DeepLearning!')"
      ]
    },
    {
      "cell_type": "code",
      "source": [
        "import tensorflow as tf\n",
        "print(tf.__version__)"
      ],
      "metadata": {
        "colab": {
          "base_uri": "https://localhost:8080/"
        },
        "id": "fcORJwIpsXi1",
        "outputId": "dda40ad1-f2df-4575-ba17-16e3d4623adf"
      },
      "execution_count": null,
      "outputs": [
        {
          "output_type": "stream",
          "name": "stdout",
          "text": [
            "2.12.0\n"
          ]
        }
      ]
    },
    {
      "cell_type": "markdown",
      "source": [
        "## 2장 딥러닝의 핵심 미리 보기\n",
        "\n",
        "### 1. 미지의 일을 예측하는 원리\n",
        "\n",
        "- 기존의 프로그래밍이 데이터를 입력해서 답을 구하는 데 초점이 맞추어 있었다면, 머신 러닝은 데이터 안에서 규칙을 발견하고 그 규칙을 새로운 데이터에 적용해서 새로운 결과를 도출하는 데 초점을 맞추고 있습니다.\n",
        "- 데이터를 머신 러닝 알고리즘에 넣으면, 머신 러닝은 데이터의 패턴과 규칙을 분석하여 저장합니다. 이후 새로운 데이터가 오면 기존에 저장한 분석과 비교해서 결과를 예측합니다.\n",
        "    - 데이터를 입력하고 패턴을 분석하는 과정을 **학습(training)**이라 부릅니다.\n",
        "\n",
        "### 2. 딥러닝 코드 실행해 보기\n",
        "\n",
        "[소스 코드 주소](https://github.com/taehojo/deeplearning)\n",
        "\n",
        "나의 첫 딥러닝: '10장 폐암 수술 환자의 생존율 예측' 코드 미리보기"
      ],
      "metadata": {
        "id": "1OC_OQsmsnPw"
      }
    },
    {
      "cell_type": "markdown",
      "source": [
        "#### 1. 환경 준비\n",
        "\n",
        "딥러닝을 구동하거나 데이터를 다루는 데 필요한 라이브러리들을 불러옵니다.\n",
        "\n",
        "- `from (라이브러리명) import (함수명)`\n",
        "    - `import (라이브러리명) as (새로운 이름)`으로 다른 이름으로 불러올 수 있습니다."
      ],
      "metadata": {
        "id": "Z0spyjwfvPSN"
      }
    },
    {
      "cell_type": "code",
      "source": [
        "from tensorflow.keras.models import Sequential  # 텐서플로의 케라스 API에서 필요한 함수들을 불러옵니다.\n",
        "from tensorflow.keras.layers import Dense       # 데이터를 다루는 데 필요한 라이브러리를 불러옵니다.\n",
        "import numpy as np"
      ],
      "metadata": {
        "id": "tnT_czxcuxPl"
      },
      "execution_count": 3,
      "outputs": []
    },
    {
      "cell_type": "markdown",
      "source": [
        "#### 2. 데이터 준비\n",
        "\n",
        "- `!git clone`으로 깃허브의 데이터를 가져옵니다.\n",
        "- 넘파이 라이브러리의 `loadtxt()`함수로 \"ThoraricSurgery3.csv\"라는 외부 데이터셋을 가져왔습니다.\n",
        "- 한 행에 17개의 숫자가 있는데, 앞의 16개는 환자의 상태를 마지막 1개는 수술 1년 후의 생존 결과를 보여줍니다.\n",
        "- 목표는 16개 항목을 이용해 마지막 17번째 항목을 예측하는 것입니다.\n",
        "    - 16개 항목을 **속성(attribute)**, 마지막 정답 17번째 항목을 **클래스(class)**라 부릅니다.\n",
        "    - 딥러닝을 위해서는 속성과 클래스를 서로 다른 데이터셋으로 지정해 주어야 합니다.\n",
        "- 속성을 모은 것을 `X`, 클래스를 모은 것을 `y` 데이터셋으로 지정했습니다."
      ],
      "metadata": {
        "id": "buCyurOUvtmA"
      }
    },
    {
      "cell_type": "code",
      "source": [
        "!git clone https://github.com/taehojo/data.git   # 깃허브에 준비된 데이터를 가져옵니다.\n",
        "\n",
        "Data_set = np.loadtxt(\"./data/ThoraricSurgery3.csv\", delimiter=\",\")  # 수술 환자 데이터를 불러옵니다.\n",
        "X = Data_set[:,0:16]                                                 # 환자의 진찰 기록을 X로 지정합니다.\n",
        "y = Data_set[:,16]                                                   # 수술 후 사망/생존 여부를 y로 지정합니다."
      ],
      "metadata": {
        "colab": {
          "base_uri": "https://localhost:8080/"
        },
        "id": "zLOsiHIFvtBo",
        "outputId": "464a1ec7-ca46-4809-ce0f-23980de7f1de"
      },
      "execution_count": 4,
      "outputs": [
        {
          "output_type": "stream",
          "name": "stdout",
          "text": [
            "Cloning into 'data'...\n",
            "remote: Enumerating objects: 21, done.\u001b[K\n",
            "remote: Counting objects: 100% (21/21), done.\u001b[K\n",
            "remote: Compressing objects: 100% (18/18), done.\u001b[K\n",
            "remote: Total 21 (delta 3), reused 20 (delta 2), pack-reused 0\u001b[K\n",
            "Unpacking objects: 100% (21/21), 460.93 KiB | 4.27 MiB/s, done.\n"
          ]
        }
      ]
    },
    {
      "cell_type": "markdown",
      "source": [
        "#### 3. 구조 결정\n",
        "\n",
        "**텐서플로**는 구글의 딥러닝 전용 라이브러리로, 여러 알고리즘을 지원해 다양한 딥러닝 작업이 가능하지만 사용하기 어렵다는 단점이 있습니다.\n",
        "\n",
        "이를 해결해주는 것이 **케라스**입니다. (텐서플로는 비행기, 케라스는 조종사라 비유할 수 있습니다.)\n",
        "\n",
        "---\n",
        "\n",
        "딥러닝은 입력층과 출력층 사이에 여러 작업을 위한 층이 쌓여 있는 구조입니다. 여러 작업 층은 각자가 맡은 일을 하면서 정보를 주고받습니다.\n",
        "\n",
        "케라스의 `Sequential()` 함수를 `model`으로 선언했는데, 이 함수로 딥러닝의 층을 `model.add()` 함수를 이용해 쌓을 수 있습니다.\n",
        "\n",
        "- 각 `model.add()` 함수 안에는 케라스 API layers 클래스의 `Dense()` 함수를 포함합니다.\n",
        "    - Dense 라는 이름은 각 층의 입력과 출력을 촘촘하게 모두 연결하라는 의미를 가지고 있습니다.\n",
        "\n",
        "\n",
        "딥러닝을 설계한다는 것은 몇 개의 층을 어떻게 쌓을지, 어떤 층을 사용할지, 내부 변수를 어떻게 정할 지를 고민하는 것입니다. (대개 어떤 데이터로 무엇을 할 것인지에 따라 설계를 결정합니다.)\n"
      ],
      "metadata": {
        "id": "iugYn-5Gxu5r"
      }
    },
    {
      "cell_type": "code",
      "source": [
        "model = Sequential()                                                  # 딥러닝 모델의 구조를 결정합니다.\n",
        "model.add(Dense(30, input_dim=16, activation='relu'))\n",
        "model.add(Dense(1, activation='sigmoid'))"
      ],
      "metadata": {
        "id": "1OK3G8u2wGof"
      },
      "execution_count": 5,
      "outputs": []
    },
    {
      "cell_type": "markdown",
      "source": [
        "#### 4. 모델 실행\n",
        "\n",
        "- `model.compile()` 함수로 모델의 설정을 실행합니다.\n",
        "- 딥러닝의 기본 방식은 앞서 만든 층을 한 번만 통과히지 않고, 위아래로 오가며 최적의 모델을 찾는 것입니다.\n",
        "    - 한 번 오갈 때 몇 개의 데이터를 사용할 것인지를 결정하는 함수가 `model.fit()` 함수입니다."
      ],
      "metadata": {
        "id": "dwIQ1gi40IJc"
      }
    },
    {
      "cell_type": "code",
      "source": [
        "model.compile(loss='binary_crossentropy', optimizer='adam', metrics=['accuracy'])  # 딥러닝 모델을 실행합니다.\n",
        "history = model.fit(X, y, epochs=5, batch_size=16)"
      ],
      "metadata": {
        "colab": {
          "base_uri": "https://localhost:8080/"
        },
        "id": "LBM5X4Dv0H6a",
        "outputId": "a3c94b73-018b-4364-9b99-b83ac5dc1472"
      },
      "execution_count": 6,
      "outputs": [
        {
          "output_type": "stream",
          "name": "stdout",
          "text": [
            "Epoch 1/5\n",
            "30/30 [==============================] - 5s 3ms/step - loss: 10.8438 - accuracy: 0.1638\n",
            "Epoch 2/5\n",
            "30/30 [==============================] - 0s 3ms/step - loss: 2.1220 - accuracy: 0.4106\n",
            "Epoch 3/5\n",
            "30/30 [==============================] - 0s 4ms/step - loss: 0.5272 - accuracy: 0.8511\n",
            "Epoch 4/5\n",
            "30/30 [==============================] - 0s 3ms/step - loss: 0.4643 - accuracy: 0.8511\n",
            "Epoch 5/5\n",
            "30/30 [==============================] - 0s 4ms/step - loss: 0.4583 - accuracy: 0.8511\n"
          ]
        }
      ]
    }
  ]
}